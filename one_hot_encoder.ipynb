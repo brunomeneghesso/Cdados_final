{
 "cells": [
  {
   "cell_type": "code",
   "execution_count": 1,
   "metadata": {},
   "outputs": [],
   "source": [
    "%matplotlib inline\n",
    "import pandas as pd\n",
    "import matplotlib.pyplot as plt\n",
    "import numpy as np\n",
    "from sklearn.preprocessing import OneHotEncoder\n",
    "import seaborn as sns\n",
    "from sklearn.ensemble import RandomForestClassifier\n",
    "from sklearn.model_selection import train_test_split\n",
    "from sklearn.metrics import accuracy_score\n",
    "from sklearn.tree import DecisionTreeClassifier\n",
    "from sklearn.naive_bayes import MultinomialNB"
   ]
  },
  {
   "cell_type": "code",
   "execution_count": 3,
   "metadata": {},
   "outputs": [],
   "source": [
    "db = pd.read_csv('3-Year_Recidivism_for_Offenders_Released_from_Prison_in_Iowa_elaborated.csv').drop(['Recidivism Reporting Year','Release type: Paroled to Detainder united'], axis=1)\n"
   ]
  },
  {
   "cell_type": "code",
   "execution_count": 2,
   "metadata": {},
   "outputs": [],
   "source": [
    "encoder = OneHotEncoder()\n",
    "def one_hot_enc(data,num=[],cat=[]):\n",
    "    d=data[cat]\n",
    "    print (d.shape)\n",
    "    for c in cat:\n",
    "        n=0\n",
    "        while n < len(d[c]):\n",
    "            if d[c][n] not in d[c].values:\n",
    "                d[c][n]='not'\n",
    "            n+=1\n",
    "    dnum=data[num]\n",
    "    print (dnum.shape)\n",
    "    encoded=encoder.fit_transform(d)\n",
    "    array=encoded.toarray()\n",
    "    numarray=dnum.values\n",
    "    return np.concatenate((numarray, array), axis=1)"
   ]
  },
  {
   "cell_type": "code",
   "execution_count": 5,
   "metadata": {},
   "outputs": [
    {
     "name": "stdout",
     "output_type": "stream",
     "text": [
      "(26020, 7)\n"
     ]
    },
    {
     "name": "stderr",
     "output_type": "stream",
     "text": [
      "C:\\Users\\bruno\\AppData\\Local\\Continuum\\anaconda3\\lib\\site-packages\\ipykernel_launcher.py:3: SettingWithCopyWarning: \n",
      "A value is trying to be set on a copy of a slice from a DataFrame\n",
      "\n",
      "See the caveats in the documentation: http://pandas.pydata.org/pandas-docs/stable/user_guide/indexing.html#returning-a-view-versus-a-copy\n",
      "  This is separate from the ipykernel package so we can avoid doing imports until\n"
     ]
    },
    {
     "name": "stdout",
     "output_type": "stream",
     "text": [
      "(26020, 1)\n"
     ]
    }
   ],
   "source": [
    "encoded=one_hot_enc(db, num=['Fiscal Year Released'],cat=['Main Supervising District','Race - Ethnicity',\n",
    "                                                      'Convicting Offense Classification','Convicting Offense Type',\n",
    "                                                      'Convicting Offense Subtype','Release Type','Part of Target Population'])\n"
   ]
  },
  {
   "cell_type": "code",
   "execution_count": 7,
   "metadata": {},
   "outputs": [],
   "source": [
    "encoder = OneHotEncoder()\n",
    "def one_hot_enc_na(data,num=[],cat=[]):\n",
    "    d=data[cat]\n",
    "    dnum=data[num]\n",
    "    print (dnum.shape)\n",
    "    encoded=encoder.fit_transform(d)\n",
    "    array=encoded.toarray()\n",
    "    numarray=dnum.values\n",
    "    return np.concatenate((numarray, array), axis=1)"
   ]
  },
  {
   "cell_type": "code",
   "execution_count": 9,
   "metadata": {},
   "outputs": [
    {
     "name": "stdout",
     "output_type": "stream",
     "text": [
      "(16438, 1)\n"
     ]
    }
   ],
   "source": [
    "encoded_dropna=one_hot_enc_na(db.dropna(), num=['Fiscal Year Released'],cat=['Main Supervising District','Race - Ethnicity',\n",
    "                                                      'Convicting Offense Classification','Convicting Offense Type',\n",
    "                                                      'Convicting Offense Subtype','Release Type','Part of Target Population'])\n"
   ]
  }
 ],
 "metadata": {
  "kernelspec": {
   "display_name": "Python 3",
   "language": "python",
   "name": "python3"
  },
  "language_info": {
   "codemirror_mode": {
    "name": "ipython",
    "version": 3
   },
   "file_extension": ".py",
   "mimetype": "text/x-python",
   "name": "python",
   "nbconvert_exporter": "python",
   "pygments_lexer": "ipython3",
   "version": "3.7.3"
  }
 },
 "nbformat": 4,
 "nbformat_minor": 2
}
