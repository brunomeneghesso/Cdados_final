{
 "cells": [
  {
   "cell_type": "markdown",
   "metadata": {},
   "source": [
    "# PROJETO 3 - Ciência dos Dados 2019.2"
   ]
  },
  {
   "cell_type": "markdown",
   "metadata": {},
   "source": [
    "## TEMA: Reincidência de Presos"
   ]
  },
  {
   "cell_type": "markdown",
   "metadata": {},
   "source": [
    "Alunos: **Beatriz Cabral | Bruno Meneghesso | Jonas Lopes | William Silva** - *INSPER - INSTITUTO DE ENSINO E PESQUISA*"
   ]
  },
  {
   "cell_type": "markdown",
   "metadata": {},
   "source": [
    "### OBJETIVO E PERGUNTA"
   ]
  },
  {
   "cell_type": "markdown",
   "metadata": {},
   "source": [
    "O objetivo desse projeto é analisar qual a probabilidade de um prisioneiro reincidir, analisando as diferentes variáveis que afetam, tais como etnia, idade, tipo de crime entre outros. \n",
    "\n",
    "Ou seja, a pergunta poder ser definida por:\n",
    "\n",
    "    \"Dadas características, como etnia, idade e tipo de crime de uma determinada pessoa, qual é a probabilidade dele voltar à detenção?\""
   ]
  },
  {
   "cell_type": "markdown",
   "metadata": {},
   "source": [
    "### CONTEXTUALIZAÇÃO"
   ]
  },
  {
   "cell_type": "markdown",
   "metadata": {},
   "source": [
    "Diversos presos, em muitos locais de detenção, ficam um determinado tempo como detentos e, após saírem de tal situação, voltam a cometer crimes e voltam para .\n",
    "\n",
    "Os dados obtidos para esta análise contemplam diversas informações sobre os detentos do estado americano de Iowa. O estado é dividido em 4 distritos e conta com uma população de pouco mais de 3 milhões de pessoas. Essa população é composta por:\n",
    "\n",
    "* 92,6% Brancos\n",
    "* 2,8% Hispânicos\n",
    "* 2,1% Afro-americanos\n",
    "* 1,1% Asiáticos\n",
    "* 0,3% Nativos americanos\n",
    "* 1,1% Duas ou mais raças\n",
    "\n",
    "Através de algumas pesquisas, pode-se observar que nos últimos anos, o índice de reincidência vem aumentando, mesmo que haja uma desaceleração nesse crescimento. Inúmeros detentos voltam a reincindir ainda durante a liberdade condicional ou para trabalho. Essa é uma das prioridades a ser resolvida, de acordo com Beth Skinner, diretora de correçoes da prisao de Iowa. Ainda segundo ela, é preciso se perguntar por que essas pessoas entram e como as mantemos afastadas desde que não representem um risco.\n",
    "\n",
    "Para mais informações sobree o assunto, acesse esse [link](https://www.thegazette.com/subject/news/government/iowa-prison-population-highest-in-8-years-20190916) e para mais informações sobre o estado de Iowa acesse este [link](http://worldpopulationreview.com/states/iowa-population/)"
   ]
  },
  {
   "cell_type": "markdown",
   "metadata": {},
   "source": [
    "### INFORMAÇÕES SOBRE O *DATASET*"
   ]
  },
  {
   "cell_type": "markdown",
   "metadata": {},
   "source": [
    "O *dataset* a ser analisado é um grande conjunto de dados que tem informações sobre detentos, que estão descritas um pouco mais abaixo com maior detalhamento acerca de cada uma das variáveis. O propósito de analisar tais dados é de obter uma resposta à pergunta anterior\n",
    "\n",
    "Este *dataset* foi criado com o objetivo de\n",
    "\n",
    "Os dados para esta análise foram obtidos a partir deste [link](https://www.kaggle.com/slonnadube/recidivism-for-offenders-released-from-prison), por meio do site Kaggle. O Dataset utilizado conta com registro de 26021 pessoas. \n"
   ]
  },
  {
   "cell_type": "markdown",
   "metadata": {},
   "source": [
    "### Explicação cada uma das variáveis"
   ]
  },
  {
   "cell_type": "markdown",
   "metadata": {},
   "source": [
    "* **Fiscal Year Released**: Ano fiscal (termina em 30 de junho nos EUA) para o qual o infrator foi libertado da prisão\n",
    "\n",
    "\n",
    "* **Recidivism Reporting Year**: Ano fiscal (ano que termina em 30 de junho nos EUA) que marca o final do período de rastreamento de três anos. Por exemplo, os infratores que saíram da prisão no ano fiscal de 2012 são encontrados no relatório de reincidência do ano fiscal de 2015.\n",
    "\n",
    "\n",
    "* **Race - Ethnicity**: representa a etnia dos detentos e é dividido em 4 grandes grupos: Americanos indianos, Asiáticos, Brancos e Negros.   \n",
    "\n",
    "\n",
    "* **Age At Release**: Idade do prisioneiro no ano da sua soltura\n",
    "\n",
    "\n",
    "* **Convicting Offense Classification**: Classificação da gravidade do crime. Penalidades máximas:\n",
    "\n",
    "    *A Felony* = vida;\n",
    "\n",
    "    *B Felony* = 25 ou 50 anos;\n",
    "\n",
    "    *C Felony* = 10 anos; \n",
    "\n",
    "    *D Felony*= 5 anos; \n",
    "\n",
    "    *Contravenção Agravada*= 2 anos; \n",
    "\n",
    "    *Contravenção Grave* = 1 ano; \n",
    "\n",
    "    *Contravenção Simples* = 30 dias\n",
    "    \n",
    "\n",
    "* **Convicting Offense Type**: Categoria geral da ofensa mais grave pela qual o infrator foi colocado na prisão\n",
    "\n",
    "\n",
    "* **Convicting Offense Subtype**: Subtipo de crime. Classificação adicional do crime mais grave pelo qual o agressor foi colocado na prisão.\n",
    "\n",
    "\n",
    "* **Main Supervising District**: Distrito Judiciário responsável pela supervisão do infrator por mais tempo durante o período de rastreamento\n",
    "\n",
    "\n",
    "* **Release Type**: Motivo para a libertação do infrator da prisão.\n",
    "\n",
    "\n",
    "* **Part of Target Population**: Parte da população-alvo. O Departamento de Correções adotou estratégias específicas para reduzir as taxas de reincidência de prisioneiros em liberdade condicional e que fazem parte da população-alvo.\n",
    "\n",
    "\n",
    "* **Recidivism - Return to Prison numeric**:\n",
    "\n",
    "    0 = Não há reincidência;\n",
    "    \n",
    "    1 = Entrada na prisão por qualquer motivo dentro do período de rastreamento de três anos\n"
   ]
  },
  {
   "cell_type": "markdown",
   "metadata": {},
   "source": [
    "## Hipótese e Mecanismo"
   ]
  },
  {
   "cell_type": "markdown",
   "metadata": {},
   "source": [
    "A partir disso, pode-se partir para a análise, visando saber se \n",
    "\n",
    "Para iniciar, pressupõe que, um detento, ao \n",
    "\n",
    "\n",
    "Primeiramente comecamos analisando quais as variáveis que seriam utilikzadas para a análise, e observamos que tanto a ... quanto a ... não nos traziam informações relevantes para o projeto. Isso, uma vez que a variável \"Recidivism Reporting Year\" nos dava o ano de soltura mais 3, uma vez que representa o fim do período de rastreamento do detento. Já a variável \"Release type: Paroled to Detainder united\", uma vez que esta não foi explicada na fonte do dataset os dados estavam bem semelhantes aos da variável \"Release Type\". \n",
    "\n",
    "Com isso, é possível separar a análise em partes para refutar posteriormente à pergunta inicial:\n",
    "\n",
    "        1. blablba\n",
    "        2. blabla\n",
    "        3. blablabla\n",
    "        4. blablabla\n",
    "        \n",
    "(No mecanismo, escrever que faremos random forest, arvore de decisao e naive bayes e explicar o que é)"
   ]
  },
  {
   "cell_type": "markdown",
   "metadata": {},
   "source": [
    "## Naive Bayes\n",
    "O algoritmo de Naive Bayes é um classificador probabilístico baseado no teorema de Bayes, utilizado no processo de machine learning. O algoritmo supõe que uma característica independe da outra para acontecer, ou seja, mesmo na presença de uma característica particular em uma classe, isso não afeta na probabilidade de qualquer característica ocorrer. O teorema de bayes é escrito da seguinte forma:\n",
    "\n",
    "* colocar a formula de bayes \n",
    "\n",
    "Esse método será utilizado no projeto, uma vez que permite calcular a probabilidade de um detento reincindir, por exemplo, dada as variáveis analisadas.\n",
    "\n",
    "A partir do nosso modelo, poderíamos reescrever o teorema de bayes da seguinte forma:\n",
    "\n",
    "* colocar a formula de bayes nosso modelo\n"
   ]
  },
  {
   "cell_type": "markdown",
   "metadata": {},
   "source": [
    "# Análise"
   ]
  },
  {
   "cell_type": "markdown",
   "metadata": {},
   "source": [
    "### Importando biblioteca e leitura dos arquivos"
   ]
  },
  {
   "cell_type": "code",
   "execution_count": 6,
   "metadata": {},
   "outputs": [],
   "source": [
    "%matplotlib inline\n",
    "import pandas as pd\n",
    "import matplotlib.pyplot as plt\n",
    "import numpy as np\n",
    "from sklearn.preprocessing import OneHotEncoder\n",
    "import seaborn as sns"
   ]
  },
  {
   "cell_type": "code",
   "execution_count": 9,
   "metadata": {
    "scrolled": false
   },
   "outputs": [],
   "source": [
    "db = pd.read_csv('3-Year_Recidivism_for_Offenders_Released_from_Prison_in_Iowa_elaborated.csv')\n",
    "\n",
    "#db['Recidivism - Return to Prison numeric'].value_counts().to_frame()"
   ]
  },
  {
   "cell_type": "markdown",
   "metadata": {},
   "source": [
    "Abaixo, temos uma simples vizualização dos dados, para que seja possível analisar as colunas e o que se possui como conteúdo nela."
   ]
  },
  {
   "cell_type": "code",
   "execution_count": 8,
   "metadata": {},
   "outputs": [
    {
     "data": {
      "text/html": [
       "<div>\n",
       "<style scoped>\n",
       "    .dataframe tbody tr th:only-of-type {\n",
       "        vertical-align: middle;\n",
       "    }\n",
       "\n",
       "    .dataframe tbody tr th {\n",
       "        vertical-align: top;\n",
       "    }\n",
       "\n",
       "    .dataframe thead th {\n",
       "        text-align: right;\n",
       "    }\n",
       "</style>\n",
       "<table border=\"1\" class=\"dataframe\">\n",
       "  <thead>\n",
       "    <tr style=\"text-align: right;\">\n",
       "      <th></th>\n",
       "      <th>Fiscal Year Released</th>\n",
       "      <th>Recidivism Reporting Year</th>\n",
       "      <th>Race - Ethnicity</th>\n",
       "      <th>Age At Release</th>\n",
       "      <th>Convicting Offense Classification</th>\n",
       "      <th>Convicting Offense Type</th>\n",
       "      <th>Convicting Offense Subtype</th>\n",
       "      <th>Main Supervising District</th>\n",
       "      <th>Release Type</th>\n",
       "      <th>Release type: Paroled to Detainder united</th>\n",
       "      <th>Part of Target Population</th>\n",
       "      <th>Recidivism - Return to Prison numeric</th>\n",
       "    </tr>\n",
       "  </thead>\n",
       "  <tbody>\n",
       "    <tr>\n",
       "      <th>0</th>\n",
       "      <td>2010</td>\n",
       "      <td>2013</td>\n",
       "      <td>White - Non-Hispanic</td>\n",
       "      <td>Under 25</td>\n",
       "      <td>D Felony</td>\n",
       "      <td>Violent</td>\n",
       "      <td>Assault</td>\n",
       "      <td>4JD</td>\n",
       "      <td>Parole</td>\n",
       "      <td>Parole</td>\n",
       "      <td>Yes</td>\n",
       "      <td>1</td>\n",
       "    </tr>\n",
       "    <tr>\n",
       "      <th>1</th>\n",
       "      <td>2010</td>\n",
       "      <td>2013</td>\n",
       "      <td>White - Non-Hispanic</td>\n",
       "      <td>55 and Older</td>\n",
       "      <td>D Felony</td>\n",
       "      <td>Public Order</td>\n",
       "      <td>OWI</td>\n",
       "      <td>7JD</td>\n",
       "      <td>Parole</td>\n",
       "      <td>Parole</td>\n",
       "      <td>Yes</td>\n",
       "      <td>1</td>\n",
       "    </tr>\n",
       "    <tr>\n",
       "      <th>2</th>\n",
       "      <td>2010</td>\n",
       "      <td>2013</td>\n",
       "      <td>White - Non-Hispanic</td>\n",
       "      <td>25-34</td>\n",
       "      <td>D Felony</td>\n",
       "      <td>Property</td>\n",
       "      <td>Burglary</td>\n",
       "      <td>5JD</td>\n",
       "      <td>Parole</td>\n",
       "      <td>Parole</td>\n",
       "      <td>Yes</td>\n",
       "      <td>1</td>\n",
       "    </tr>\n",
       "    <tr>\n",
       "      <th>3</th>\n",
       "      <td>2010</td>\n",
       "      <td>2013</td>\n",
       "      <td>White - Non-Hispanic</td>\n",
       "      <td>55 and Older</td>\n",
       "      <td>C Felony</td>\n",
       "      <td>Drug</td>\n",
       "      <td>Trafficking</td>\n",
       "      <td>8JD</td>\n",
       "      <td>Parole</td>\n",
       "      <td>Parole</td>\n",
       "      <td>Yes</td>\n",
       "      <td>1</td>\n",
       "    </tr>\n",
       "    <tr>\n",
       "      <th>4</th>\n",
       "      <td>2010</td>\n",
       "      <td>2013</td>\n",
       "      <td>Black - Non-Hispanic</td>\n",
       "      <td>25-34</td>\n",
       "      <td>D Felony</td>\n",
       "      <td>Drug</td>\n",
       "      <td>Trafficking</td>\n",
       "      <td>3JD</td>\n",
       "      <td>Parole</td>\n",
       "      <td>Parole</td>\n",
       "      <td>Yes</td>\n",
       "      <td>1</td>\n",
       "    </tr>\n",
       "  </tbody>\n",
       "</table>\n",
       "</div>"
      ],
      "text/plain": [
       "   Fiscal Year Released  Recidivism Reporting Year      Race - Ethnicity  \\\n",
       "0                  2010                       2013  White - Non-Hispanic   \n",
       "1                  2010                       2013  White - Non-Hispanic   \n",
       "2                  2010                       2013  White - Non-Hispanic   \n",
       "3                  2010                       2013  White - Non-Hispanic   \n",
       "4                  2010                       2013  Black - Non-Hispanic   \n",
       "\n",
       "  Age At Release  Convicting Offense Classification Convicting Offense Type  \\\n",
       "0        Under 25                          D Felony                 Violent   \n",
       "1    55 and Older                          D Felony            Public Order   \n",
       "2           25-34                          D Felony                Property   \n",
       "3    55 and Older                          C Felony                    Drug   \n",
       "4           25-34                          D Felony                    Drug   \n",
       "\n",
       "  Convicting Offense Subtype Main Supervising District Release Type  \\\n",
       "0                    Assault                       4JD       Parole   \n",
       "1                        OWI                       7JD       Parole   \n",
       "2                   Burglary                       5JD       Parole   \n",
       "3                Trafficking                       8JD       Parole   \n",
       "4                Trafficking                       3JD       Parole   \n",
       "\n",
       "  Release type: Paroled to Detainder united Part of Target Population  \\\n",
       "0                                    Parole                       Yes   \n",
       "1                                    Parole                       Yes   \n",
       "2                                    Parole                       Yes   \n",
       "3                                    Parole                       Yes   \n",
       "4                                    Parole                       Yes   \n",
       "\n",
       "   Recidivism - Return to Prison numeric  \n",
       "0                                      1  \n",
       "1                                      1  \n",
       "2                                      1  \n",
       "3                                      1  \n",
       "4                                      1  "
      ]
     },
     "execution_count": 8,
     "metadata": {},
     "output_type": "execute_result"
    }
   ],
   "source": [
    "db.head()"
   ]
  },
  {
   "cell_type": "markdown",
   "metadata": {},
   "source": [
    "A partir da tabela acima, pode-se observar que nesta prisão 17339 presos não voltam a cometer crimes e 8681 reincidem."
   ]
  },
  {
   "cell_type": "code",
   "execution_count": null,
   "metadata": {},
   "outputs": [],
   "source": []
  },
  {
   "cell_type": "code",
   "execution_count": null,
   "metadata": {},
   "outputs": [],
   "source": []
  },
  {
   "cell_type": "markdown",
   "metadata": {},
   "source": [
    "## CONCLUSÃO"
   ]
  },
  {
   "cell_type": "code",
   "execution_count": null,
   "metadata": {},
   "outputs": [],
   "source": []
  },
  {
   "cell_type": "markdown",
   "metadata": {},
   "source": [
    "### Propostas de Aperfeiçoamento do Projeto"
   ]
  },
  {
   "cell_type": "code",
   "execution_count": null,
   "metadata": {},
   "outputs": [],
   "source": []
  },
  {
   "cell_type": "markdown",
   "metadata": {},
   "source": [
    "## REFERÊNCIAS"
   ]
  },
  {
   "cell_type": "markdown",
   "metadata": {},
   "source": [
    "**[1]** IPEA. Reincidência criminal no Brasil. Disponível em: https://www.cnj.jus.br/wp-content/uploads/2011/02/716becd8421643340f61dfa8677e1538.pdf. Acesso em 15 nov. 2019.\n",
    "\n",
    "**[1]** BLABLBALBALBABA\n",
    "\n",
    "**[1]** BLABLBALBALBABA\n",
    "\n",
    "**[1]** BLABLBALBALBABA"
   ]
  },
  {
   "cell_type": "code",
   "execution_count": null,
   "metadata": {},
   "outputs": [],
   "source": []
  }
 ],
 "metadata": {
  "kernelspec": {
   "display_name": "Python 3",
   "language": "python",
   "name": "python3"
  },
  "language_info": {
   "codemirror_mode": {
    "name": "ipython",
    "version": 3
   },
   "file_extension": ".py",
   "mimetype": "text/x-python",
   "name": "python",
   "nbconvert_exporter": "python",
   "pygments_lexer": "ipython3",
   "version": "3.7.1"
  }
 },
 "nbformat": 4,
 "nbformat_minor": 2
}
