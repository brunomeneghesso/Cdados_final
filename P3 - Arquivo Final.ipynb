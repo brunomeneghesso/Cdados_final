{
 "cells": [
  {
   "cell_type": "markdown",
   "metadata": {},
   "source": [
    "# PROJETO 3 - Ciência dos Dados 2019.2"
   ]
  },
  {
   "cell_type": "markdown",
   "metadata": {},
   "source": [
    "## TEMA: Reincidência de Presos"
   ]
  },
  {
   "cell_type": "markdown",
   "metadata": {},
   "source": [
    "Alunos: **[Beatriz Cabral](https://github.com/beatrizcf2) | [Bruno Meneghesso](https://github.com/brunomeneghesso) | [Jonas Lopes](https://github.com/JonasLopes19) | [William Silva](https://github.com/williamars)** \n",
    "\n",
    "[*INSPER - INSTITUTO DE ENSINO E PESQUISA*](https://www.insper.edu.br/)"
   ]
  },
  {
   "cell_type": "markdown",
   "metadata": {},
   "source": [
    "### OBJETIVO E PERGUNTA"
   ]
  },
  {
   "cell_type": "markdown",
   "metadata": {},
   "source": [
    "O objetivo desse projeto é analisar qual a probabilidade de um prisioneiro reincidir, analisando as diferentes variáveis que afetam, tais como etnia, idade, tipo de crime entre outros. \n",
    "\n",
    "Ou seja, a pergunta poder ser definida por:\n",
    "\n",
    "    \"Dadas características, como etnia, idade e tipo de crime de uma determinada pessoa, qual é a probabilidade dele voltar à detenção?\""
   ]
  },
  {
   "cell_type": "markdown",
   "metadata": {},
   "source": [
    "### CONTEXTUALIZAÇÃO"
   ]
  },
  {
   "cell_type": "markdown",
   "metadata": {},
   "source": [
    "Diversos presos, em muitos locais de detenção, ficam um determinado tempo como detentos e, após saírem de tal situação, voltam a cometer crimes e retornam ao local após um determinado tempo. Para esse fenômeno, denominamos reincidência. **[1]**\n",
    "\n",
    "Os dados obtidos para esta análise contemplam diversas informações sobre os detentos do estado americano de Iowa. O estado é dividido em distritos e conta com uma população de pouco mais de 3 milhões de pessoas. Essa população é composta por:\n",
    "\n",
    "* 92,6% Brancos\n",
    "* 2,8% Hispânicos\n",
    "* 2,1% Afro-americanos\n",
    "* 1,1% Asiáticos\n",
    "* 0,3% Nativos americanos\n",
    "* 1,1% Duas ou mais raças\n",
    "\n",
    "Através de algumas pesquisas **[2]**, pode-se observar que, nos últimos anos, o índice de reincidência vem aumentando, mesmo que haja uma desaceleração nesse crescimento. Inúmeros detentos voltam a reincindir ainda durante a liberdade condicional ou para trabalho. Essa é uma das prioridades a ser resolvida, de acordo com Beth Skinner, diretora de correçoes da prisao de Iowa. Ainda segundo ela, é preciso se perguntar por que essas pessoas entram e como as mantêm afastadas desde que não representem um risco.\n",
    "\n",
    "Para mais informações sobre o assunto, acesse esse [link](https://www.thegazette.com/subject/news/government/iowa-prison-population-highest-in-8-years-20190916) **[2]**\n",
    "\n",
    "e para mais informações sobre o estado de Iowa acesse este [link](http://worldpopulationreview.com/states/iowa-population/) **[3]**"
   ]
  },
  {
   "cell_type": "markdown",
   "metadata": {},
   "source": [
    "### INFORMAÇÕES SOBRE O *DATASET*"
   ]
  },
  {
   "cell_type": "markdown",
   "metadata": {},
   "source": [
    "O *dataset* a ser analisado é um grande conjunto de dados que tem informações sobre detentos, que estão descritas um pouco mais abaixo com maior detalhamento acerca de cada uma das variáveis. O propósito de analisar tais dados é de obter uma resposta à pergunta anterior\n",
    "\n",
    "Este *dataset* foi criado com o objetivo de\n",
    "\n",
    "Os dados para esta análise foram obtidos a partir deste [link](https://www.kaggle.com/slonnadube/recidivism-for-offenders-released-from-prison) **[4]**, por meio do site Kaggle. O Dataset utilizado conta com registro de 26021 pessoas. \n"
   ]
  },
  {
   "cell_type": "markdown",
   "metadata": {},
   "source": [
    "### Explicação cada uma das variáveis"
   ]
  },
  {
   "cell_type": "markdown",
   "metadata": {},
   "source": [
    "* **Fiscal Year Released**: Ano fiscal (termina em 30 jun. nos EUA), para o qual o infrator foi libertado da prisão.\n",
    "\n",
    "________________________________________________________________\n",
    "\n",
    "* **Recidivism Reporting Year**: Ano fiscal que marca o final do período de rastreamento de três anos. Por exemplo, os infratores que saíram da prisão no ano fiscal de 2012 são encontrados no relatório de reincidência do ano fiscal de 2015.\n",
    "\n",
    "________________________________________________________________\n",
    "\n",
    "* **Race - Ethnicity**: representa a etnia dos detentos e é dividido em 4 grandes grupos: Americanos indianos, Asiáticos, Brancos e Negros.   \n",
    "\n",
    "________________________________________________________________\n",
    "\n",
    "\n",
    "* **Age At Release**: Idade do prisioneiro no ano da sua soltura.\n",
    "\n",
    "________________________________________________________________\n",
    "\n",
    "* **Convicting Offense Classification**: Classificação da gravidade do crime. Penalidades máximas:\n",
    "\n",
    "    * *A Felony* = vida;\n",
    "    * *B Felony* = 25 ou 50 anos;\n",
    "    * *C Felony* = 10 anos;\n",
    "    * *D Felony* = 5 anos; \n",
    "    * *Contravenção Agravada* = 2 anos;\n",
    "    * *Contravenção Grave* = 1 ano; \n",
    "    * *Contravenção Simples* = 30 dias\n",
    "\n",
    "________________________________________________________________\n",
    "\n",
    "* **Convicting Offense Type**: Categoria geral da ofensa mais grave pela qual o infrator foi colocado na prisão.\n",
    "\n",
    "________________________________________________________________\n",
    "\n",
    "* **Convicting Offense Subtype**: Subtipo de crime. Classificação adicional do crime mais grave pelo qual a pessoa foi colocada na prisão.\n",
    "\n",
    "________________________________________________________________\n",
    "\n",
    "* **Main Supervising District**: Distrito Judiciário responsável pela supervisão do infrator por mais tempo durante o período de rastreamento\n",
    "\n",
    "________________________________________________________________\n",
    "\n",
    "* **Release Type**: Motivo para a libertação do infrator da prisão.\n",
    "\n",
    "________________________________________________________________\n",
    "\n",
    "* **Part of Target Population**: Parte da população-alvo. O Departamento de Correções adotou estratégias específicas para reduzir as taxas de reincidência de prisioneiros em liberdade condicional e que fazem parte da população-alvo.\n",
    "\n",
    "________________________________________________________________\n",
    "\n",
    "* **Recidivism - Return to Prison numeric**:\n",
    "\n",
    "    0 = Não há reincidência;\n",
    "    \n",
    "    1 = Entrada na prisão por qualquer motivo dentro do período de rastreamento de três anos\n"
   ]
  },
  {
   "cell_type": "markdown",
   "metadata": {},
   "source": [
    "## Hipótese e Mecanismo"
   ]
  },
  {
   "cell_type": "markdown",
   "metadata": {},
   "source": [
    "A partir disso, pode-se partir para a análise, visando saber se \n",
    "\n",
    "Para iniciar, pressupõe que, um detento, ao \n",
    "\n",
    "\n",
    "Primeiramente comecamos analisando quais as variáveis que seriam utilikzadas para a análise, e observamos que tanto a ... quanto a ... não nos traziam informações relevantes para o projeto. Isso, uma vez que a variável \"Recidivism Reporting Year\" nos dava o ano de soltura mais 3, uma vez que representa o fim do período de rastreamento do detento. Já a variável \"Release type: Paroled to Detainder united\", uma vez que esta não foi explicada na fonte do dataset os dados estavam bem semelhantes aos da variável \"Release Type\". \n",
    "\n",
    "Com isso, é possível separar a análise em partes para refutar posteriormente à pergunta inicial:\n",
    "\n",
    "        1. blablba\n",
    "        2. blabla\n",
    "        3. blablabla\n",
    "        4. blablabla\n",
    "        \n",
    "(No mecanismo, escrever que faremos random forest, arvore de decisao e naive bayes e explicar o que é)"
   ]
  },
  {
   "cell_type": "markdown",
   "metadata": {},
   "source": [
    "### Naive Bayes\n",
    "O algoritmo de Naive Bayes é um classificador probabilístico baseado no teorema de Bayes, utilizado no processo de machine learning. O algoritmo supõe que uma característica independe da outra para acontecer, ou seja, mesmo na presença de uma característica particular em uma classe, isso não afeta na probabilidade de qualquer característica ocorrer. O teorema de bayes é escrito da seguinte forma:\n",
    "\n",
    "* colocar a formula de bayes \n",
    "\n",
    "Esse método será utilizado no projeto, uma vez que permite calcular a probabilidade de um detento reincindir, por exemplo, dada as variáveis analisadas.\n",
    "\n",
    "A partir do nosso modelo, poderíamos reescrever o teorema de bayes da seguinte forma:\n",
    "\n",
    "* colocar a formula de bayes nosso modelo\n"
   ]
  },
  {
   "cell_type": "markdown",
   "metadata": {},
   "source": [
    "_____________"
   ]
  },
  {
   "cell_type": "markdown",
   "metadata": {},
   "source": [
    "# Análise"
   ]
  },
  {
   "cell_type": "markdown",
   "metadata": {},
   "source": [
    "### Importando biblioteca e leitura dos arquivos"
   ]
  },
  {
   "cell_type": "code",
   "execution_count": null,
   "metadata": {},
   "outputs": [],
   "source": [
    "%matplotlib inline\n",
    "import pandas as pd\n",
    "import matplotlib.pyplot as plt\n",
    "import numpy as np\n",
    "from sklearn.preprocessing import OneHotEncoder\n",
    "import seaborn as sns\n",
    "from sklearn.ensemble import RandomForestClassifier\n",
    "from sklearn.model_selection import train_test_split\n",
    "from sklearn.metrics import accuracy_score\n",
    "from sklearn.tree import DecisionTreeClassifier\n",
    "from sklearn.naive_bayes import MultinomialNB"
   ]
  },
  {
   "cell_type": "code",
   "execution_count": null,
   "metadata": {
    "scrolled": false
   },
   "outputs": [],
   "source": [
    "# Leitura do arquivo\n",
    "db = pd.read_csv('3-Year_Recidivism_for_Offenders_Released_from_Prison_in_Iowa_elaborated.csv')\n",
    "\n",
    "# Contagem de quantos presos reincidiram e quantos não\n",
    "db['Recidivism - Return to Prison numeric'].value_counts().to_frame()"
   ]
  },
  {
   "cell_type": "code",
   "execution_count": null,
   "metadata": {},
   "outputs": [],
   "source": [
    "db['Recidivism - Return to Prison numeric'].value_counts(True).to_frame()"
   ]
  },
  {
   "cell_type": "markdown",
   "metadata": {},
   "source": [
    "A partir das tabelas acima, pode-se observar que, nesta prisão, 17339 presos não voltam a cárcere e 8681 reincidem. Isso equivale a 66% não volta e 33% sim, como mostra a tabela acima.\n",
    "\n",
    "Com isso, nota-se que a maioria não volta, no entanto 33% não deixa de ser um número relativamente alto, sendo papel das entidades políticas sempre lutarem para reduzi-lo. Desta forma, mostra-se novamente a relevância dessa análise, que poderia auxiliar num tratamento melhor com os presos, identificando suas características e observando se estes têm uma alta probabilidade de voltar ou não e, caso sim, realizar ações mais focadas para evitar tal situação."
   ]
  },
  {
   "cell_type": "markdown",
   "metadata": {},
   "source": [
    "Abaixo, temos uma simples vizualização dos dados, para que seja possível analisar as colunas e o que se possui como conteúdo nela."
   ]
  },
  {
   "cell_type": "code",
   "execution_count": null,
   "metadata": {},
   "outputs": [],
   "source": [
    "# Analisando só uma parte dos dados\n",
    "db.head()"
   ]
  },
  {
   "cell_type": "markdown",
   "metadata": {},
   "source": [
    "## Pequena análise exploratória"
   ]
  },
  {
   "cell_type": "markdown",
   "metadata": {},
   "source": [
    "Abaixo, iremos iniciar uma simples análise exploratória que mostrará alguns aspectos relevantes para o projeto. Usando a função construída, podemos selecionar as colunas as quais queremos plotar gráficos, comparando com o tópico de se a pessoa voltou ou não para a detenção."
   ]
  },
  {
   "cell_type": "code",
   "execution_count": null,
   "metadata": {
    "scrolled": false
   },
   "outputs": [],
   "source": [
    "# Função que plota todos os gráficos exploratórios\n",
    "def exploratoria (data, compara, categorias=[]):\n",
    "    d0=data[data[compara]==0]\n",
    "    d1=data[data[compara]==1]\n",
    "    cros={}\n",
    "    cros_norm={}\n",
    "    box={}\n",
    "    # Plotando para cada categoria\n",
    "    for c in categorias:\n",
    "        cros_norm[c] = pd.crosstab(data[c],data[compara],normalize='index')\n",
    "        cros_norm[c].plot(kind='bar', color=('black', 'b'))\n",
    "        plt.title(c)\n",
    "        plt.ylabel('Frequência Absoluta')\n",
    "        plt.show()\n",
    "        \n",
    "# Chamando a função com os dados que possuímos\n",
    "exploratoria(db,'Recidivism - Return to Prison numeric',categorias = ['Convicting Offense Classification',\n",
    "                                                                      'Convicting Offense Type',\n",
    "                                                                      'Race - Ethnicity',\n",
    "                                                                      'Convicting Offense Subtype',\n",
    "                                                                      'Main Supervising District',\n",
    "                                                                      'Release Type'\n",
    "                                                                     ]\n",
    "            )"
   ]
  },
  {
   "cell_type": "markdown",
   "metadata": {},
   "source": [
    "###### Análise dos gráficos"
   ]
  },
  {
   "cell_type": "code",
   "execution_count": null,
   "metadata": {},
   "outputs": [],
   "source": []
  },
  {
   "cell_type": "code",
   "execution_count": null,
   "metadata": {},
   "outputs": [],
   "source": []
  },
  {
   "cell_type": "code",
   "execution_count": null,
   "metadata": {
    "scrolled": false
   },
   "outputs": [],
   "source": [
    "encoder = OneHotEncoder()\n",
    "def one_hot_enc(data, num=[], cat=[]):\n",
    "    d = data[cat]\n",
    "    print(f'{d.shape}')\n",
    "    #For que vai trocar todos os \"NaN\" para não dar erro no código\n",
    "    for c in cat:\n",
    "        n = 0\n",
    "        while n < len(d[c]):\n",
    "            if d[c][n] not in d[c].values:\n",
    "                d[c][n] = 'not'\n",
    "            n += 1\n",
    "    dnum = data[num]\n",
    "    print(f'{dnum.shape}')\n",
    "    encoded = encoder.fit_transform(d)\n",
    "    array = encoded.toarray()\n",
    "    numarray = dnum.values\n",
    "    return np.concatenate((numarray, array), axis=1)\n",
    "\n",
    "var_enc = one_hot_enc(db,num=['Fiscal Year Released'],cat=['Main Supervising District',\n",
    "                                                           'Race - Ethnicity',\n",
    "                                                           'Convicting Offense Classification',\n",
    "                                                           'Convicting Offense Type',\n",
    "                                                           'Convicting Offense Subtype',\n",
    "                                                           'Release Type',\n",
    "                                                           'Part of Target Population']\n",
    "                     )\n",
    "\n",
    "# Fazendo o split\n",
    "X_train, X_test, y_train, y_test = train_test_split(var_enc, db['Recidivism - Return to Prison numeric'])"
   ]
  },
  {
   "cell_type": "markdown",
   "metadata": {},
   "source": [
    "_________________________________________________________________________________________"
   ]
  },
  {
   "cell_type": "markdown",
   "metadata": {},
   "source": [
    "## Análise preditiva por temas"
   ]
  },
  {
   "cell_type": "markdown",
   "metadata": {},
   "source": [
    "### Random Forest"
   ]
  },
  {
   "cell_type": "markdown",
   "metadata": {},
   "source": [
    "Para realizar a primeira análise, como já foi proferido, usamos o método Random Forest, que será explicitado e explicado logo abaixo. É um método totalmente relevante para o contexto ao qual estamos aplicando."
   ]
  },
  {
   "cell_type": "markdown",
   "metadata": {},
   "source": [
    "***O QUE É O Random Forest?***"
   ]
  },
  {
   "cell_type": "markdown",
   "metadata": {},
   "source": [
    "..."
   ]
  },
  {
   "cell_type": "code",
   "execution_count": null,
   "metadata": {},
   "outputs": [],
   "source": [
    "modelo1 = RandomForestClassifier()\n",
    "modelo1.fit(X_train, y_train)\n",
    "y_pred = modelo1.predict(X_test)\n",
    "\n",
    "print('Random Forest: {}'.format(accuracy_score(y_test, y_pred)))"
   ]
  },
  {
   "cell_type": "markdown",
   "metadata": {},
   "source": [
    "***Resultados do Random Forest***"
   ]
  },
  {
   "cell_type": "markdown",
   "metadata": {},
   "source": [
    "..."
   ]
  },
  {
   "cell_type": "markdown",
   "metadata": {},
   "source": [
    "_________________________________________"
   ]
  },
  {
   "cell_type": "markdown",
   "metadata": {},
   "source": [
    "### Decision Tree - Árvore de Decisão"
   ]
  },
  {
   "cell_type": "markdown",
   "metadata": {},
   "source": [
    "Para a segunda análise dos dados"
   ]
  },
  {
   "cell_type": "markdown",
   "metadata": {},
   "source": [
    "***O QUE É A Árvore de Decisão?***"
   ]
  },
  {
   "cell_type": "markdown",
   "metadata": {},
   "source": [
    "..."
   ]
  },
  {
   "cell_type": "code",
   "execution_count": null,
   "metadata": {},
   "outputs": [],
   "source": [
    "modelo2 = DecisionTreeClassifier()\n",
    "modelo2.fit(X_train, y_train)\n",
    "y_pred2 = modelo2.predict(X_test)\n",
    "\n",
    "print('Decision Tree: {}'.format(accuracy_score(y_test, y_pred2)))"
   ]
  },
  {
   "cell_type": "markdown",
   "metadata": {},
   "source": [
    "***Resultados da Árvore de Decisão***"
   ]
  },
  {
   "cell_type": "markdown",
   "metadata": {},
   "source": [
    "..."
   ]
  },
  {
   "cell_type": "markdown",
   "metadata": {},
   "source": [
    "__________"
   ]
  },
  {
   "cell_type": "markdown",
   "metadata": {},
   "source": [
    "### Multinomial Naive Bayes"
   ]
  },
  {
   "cell_type": "markdown",
   "metadata": {},
   "source": [
    "Para fazer a terceira análise, preferimos "
   ]
  },
  {
   "cell_type": "markdown",
   "metadata": {},
   "source": [
    "***O QUE É O Multinomial Naive Bayes (MNB)?***"
   ]
  },
  {
   "cell_type": "markdown",
   "metadata": {},
   "source": [
    "..."
   ]
  },
  {
   "cell_type": "code",
   "execution_count": null,
   "metadata": {},
   "outputs": [],
   "source": [
    "model3=MultinomialNB()\n",
    "model3.fit(X_train, y_train)\n",
    "y_pred3 = model3.predict(X_test)\n",
    "\n",
    "print('Multinomial Naive Bayes: {}'.format(accuracy_score(y_test, y_pred3)))"
   ]
  },
  {
   "cell_type": "markdown",
   "metadata": {},
   "source": [
    "***Resultados do MNB***"
   ]
  },
  {
   "cell_type": "markdown",
   "metadata": {},
   "source": [
    "..."
   ]
  },
  {
   "cell_type": "markdown",
   "metadata": {},
   "source": [
    "___________"
   ]
  },
  {
   "cell_type": "markdown",
   "metadata": {},
   "source": [
    "## CONCLUSÃO"
   ]
  },
  {
   "cell_type": "code",
   "execution_count": null,
   "metadata": {},
   "outputs": [],
   "source": []
  },
  {
   "cell_type": "markdown",
   "metadata": {},
   "source": [
    "### Propostas de Aperfeiçoamento do Projeto"
   ]
  },
  {
   "cell_type": "code",
   "execution_count": null,
   "metadata": {},
   "outputs": [],
   "source": []
  },
  {
   "cell_type": "markdown",
   "metadata": {},
   "source": [
    "_____________"
   ]
  },
  {
   "cell_type": "markdown",
   "metadata": {},
   "source": [
    "## REFERÊNCIAS"
   ]
  },
  {
   "cell_type": "markdown",
   "metadata": {},
   "source": [
    "**[1]** IPEA. *Reincidência criminal no Brasil*. Disponível em: https://www.cnj.jus.br/wp-content/uploads/2011/02/716becd8421643340f61dfa8677e1538.pdf. Acesso em 15 nov. 2019.\n",
    "\n",
    "**[2]** *Iowa prison population highest in 8 years*. Disponível em: https://www.thegazette.com/subject/news/government/iowa-prison-population-highest-in-8-years-20190916. Acesso em 17 nov. 2019.\n",
    "\n",
    "**[3]** *Iowa Population 2019 (Demographics, Maps, Graphs)*. Disponível em: http://worldpopulationreview.com/states/iowa-population/. Acesso em 19 nov. 2019.\n",
    "\n",
    "**[4]** *Dataset sobre prisioneiros em Iowa*. Disponível em: https://www.kaggle.com/slonnadube/recidivism-for-offenders-released-from-prison. Acesso em 5 nov. 2019."
   ]
  }
 ],
 "metadata": {
  "kernelspec": {
   "display_name": "Python 3",
   "language": "python",
   "name": "python3"
  },
  "language_info": {
   "codemirror_mode": {
    "name": "ipython",
    "version": 3
   },
   "file_extension": ".py",
   "mimetype": "text/x-python",
   "name": "python",
   "nbconvert_exporter": "python",
   "pygments_lexer": "ipython3",
   "version": "3.7.4"
  }
 },
 "nbformat": 4,
 "nbformat_minor": 2
}
