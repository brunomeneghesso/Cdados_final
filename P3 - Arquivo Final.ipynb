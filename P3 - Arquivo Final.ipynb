{
 "cells": [
  {
   "cell_type": "markdown",
   "metadata": {},
   "source": [
    "# PROJETO 3 - Ciência dos Dados 2019.2\n",
    "\n",
    "\n",
    "### Reincidência de Presos"
   ]
  },
  {
   "cell_type": "markdown",
   "metadata": {},
   "source": [
    "Alunos: **Beatriz Cabral | Bruno Meneghesso | Jonas Lopes | William Silva** - *INSPER - INSTITUTO DE ENSINO E PESQUISA*"
   ]
  },
  {
   "cell_type": "markdown",
   "metadata": {},
   "source": [
    "## PERGUNTA"
   ]
  },
  {
   "cell_type": "markdown",
   "metadata": {},
   "source": [
    "O objetivo desse projeto é analisar qual a probabilidade de um prisioneiro reincidir, analisando as diferentes variáveis que afetam, tais como etnia, idade, tipo de crime entre outros. "
   ]
  },
  {
   "cell_type": "markdown",
   "metadata": {},
   "source": [
    "## CONTEXTUALIZAÇÃO"
   ]
  },
  {
   "cell_type": "markdown",
   "metadata": {},
   "source": [
    "O *dataset* a ser analisado é um grande conjunto de dados que tem informações sobre detentos, que estão descritas um pouco mais abaixo com maior detalhamento acerca de cada uma das variáveis. O propósito de analisar tais dados é de obter uma resposta à pergunta anterior\n",
    "\n",
    "s dados para esta análise foram obtidos a partir deste [link](https://www.kaggle.com/slonnadube/recidivism-for-offenders-released-from-prison). O Dataset utilizado conta com 26021 registros. \n"
   ]
  },
  {
   "cell_type": "markdown",
   "metadata": {},
   "source": [
    "### Explicação cada uma das variáveis\n",
    "\n",
    "* **Fiscal Year Released**: é o ano de soltura do detento\n",
    "\n",
    "* **Recidivism Reporting Year**: é o ano em que houve a reincidência. É importante ressaltar que aqueles em que o ano de reincidência consta como 2018, significa que até o final do ano de elaboração do banco de dados (2018), o detento não havia reincidido.\n",
    "\n",
    "* **Race - Ethnicity**: representa a etnia dos detentos e é dividido em 4 grandes grupos: Americanos indianos, Asiáticos, Brancos e Negros.   \n",
    "\n",
    "* **Age At Release**:\n",
    "\n",
    "* **Convicting Offense Classification**:\n",
    "\n",
    "* **Convicting Offense Type**:\n",
    "\n",
    "* **Convicting Offense Subtype**:\n",
    "\n",
    "* **Main Supervising District**:\n",
    "\n",
    "* **Release Type**:\n",
    "\n",
    "* **Release type: Paroled to Detainder united**:\n",
    "\n",
    "* **Part of Target Population**:\n",
    "\n",
    "* **Recidivism - Return to Prison numeric**:\n",
    "\n"
   ]
  },
  {
   "cell_type": "code",
   "execution_count": null,
   "metadata": {},
   "outputs": [],
   "source": [
    "db.head()\n"
   ]
  },
  {
   "cell_type": "markdown",
   "metadata": {},
   "source": [
    "## HIPÓTESE E MECANISMO"
   ]
  },
  {
   "cell_type": "code",
   "execution_count": null,
   "metadata": {},
   "outputs": [],
   "source": []
  },
  {
   "cell_type": "markdown",
   "metadata": {},
   "source": [
    "### Importando biblioteca e leitura dos arquivos"
   ]
  },
  {
   "cell_type": "code",
   "execution_count": 1,
   "metadata": {},
   "outputs": [],
   "source": [
    "%matplotlib inline\n",
    "import pandas as pd\n",
    "import matplotlib.pyplot as plt\n",
    "import numpy as np\n",
    "from sklearn.preprocessing import OneHotEncoder\n",
    "import seaborn as sns"
   ]
  },
  {
   "cell_type": "code",
   "execution_count": 2,
   "metadata": {
    "scrolled": false
   },
   "outputs": [
    {
     "data": {
      "text/html": [
       "<div>\n",
       "<style scoped>\n",
       "    .dataframe tbody tr th:only-of-type {\n",
       "        vertical-align: middle;\n",
       "    }\n",
       "\n",
       "    .dataframe tbody tr th {\n",
       "        vertical-align: top;\n",
       "    }\n",
       "\n",
       "    .dataframe thead th {\n",
       "        text-align: right;\n",
       "    }\n",
       "</style>\n",
       "<table border=\"1\" class=\"dataframe\">\n",
       "  <thead>\n",
       "    <tr style=\"text-align: right;\">\n",
       "      <th></th>\n",
       "      <th>Recidivism - Return to Prison numeric</th>\n",
       "    </tr>\n",
       "  </thead>\n",
       "  <tbody>\n",
       "    <tr>\n",
       "      <th>0</th>\n",
       "      <td>17339</td>\n",
       "    </tr>\n",
       "    <tr>\n",
       "      <th>1</th>\n",
       "      <td>8681</td>\n",
       "    </tr>\n",
       "  </tbody>\n",
       "</table>\n",
       "</div>"
      ],
      "text/plain": [
       "   Recidivism - Return to Prison numeric\n",
       "0                                  17339\n",
       "1                                   8681"
      ]
     },
     "execution_count": 2,
     "metadata": {},
     "output_type": "execute_result"
    }
   ],
   "source": [
    "db = pd.read_csv('3-Year_Recidivism_for_Offenders_Released_from_Prison_in_Iowa_elaborated.csv')\n",
    "\n",
    "db['Recidivism - Return to Prison numeric'].value_counts().to_frame()"
   ]
  },
  {
   "cell_type": "markdown",
   "metadata": {},
   "source": [
    "A partir da tabela acima, pode-se observar que nesta prisão 17339 presos não voltam a cometer crimes e 8681 reincidem."
   ]
  },
  {
   "cell_type": "markdown",
   "metadata": {},
   "source": [
    "### Explicação das colunas"
   ]
  },
  {
   "cell_type": "markdown",
   "metadata": {},
   "source": [
    "**Fiscal Year Released**: \n",
    "\n",
    "**Recidivism Reporting Year**:\n",
    "\n",
    "**Race - Ethnicity**:\n",
    "\n",
    "**Age At Release**:\n",
    "\n",
    "**Convicting Offense Classification**:\n",
    "\n",
    "**Convicting Offense Type**:\n",
    "\n",
    "**Convicting Offense Subtype**:\n",
    "\n",
    "**Main Supervising District**:\n",
    "\n",
    "**Release Type**:\n",
    "\n",
    "**Release type: Paroled to Detainder united**:\n",
    "\n",
    "**Part of Target Population**:\n",
    "\n",
    "**Recidivism - Return to Prison numeric**:\n",
    "\n"
   ]
  },
  {
   "cell_type": "markdown",
   "metadata": {},
   "source": [
    "## Análise Exploratória"
   ]
  },
  {
   "cell_type": "markdown",
   "metadata": {},
   "source": [
    "Abaixo, iremos realizar a análise exploratória, com o intuito de se ter uma visão melhor dos dados que se possui, para poder decidir o caminho ao qual seguir."
   ]
  },
  {
   "cell_type": "code",
   "execution_count": 6,
   "metadata": {},
   "outputs": [],
   "source": [
    "etnia_motivo = pd.crosstab(db[\"Race - Ethnicity\"], db[\"Convicting Offense Subtype\"], normalize=True)*100\n",
    "k = etnia_motivo.sum().sort_values(ascending=False)"
   ]
  },
  {
   "cell_type": "code",
   "execution_count": 7,
   "metadata": {},
   "outputs": [
    {
     "data": {
      "text/html": [
       "<div>\n",
       "<style scoped>\n",
       "    .dataframe tbody tr th:only-of-type {\n",
       "        vertical-align: middle;\n",
       "    }\n",
       "\n",
       "    .dataframe tbody tr th {\n",
       "        vertical-align: top;\n",
       "    }\n",
       "\n",
       "    .dataframe thead th {\n",
       "        text-align: right;\n",
       "    }\n",
       "</style>\n",
       "<table border=\"1\" class=\"dataframe\">\n",
       "  <thead>\n",
       "    <tr style=\"text-align: right;\">\n",
       "      <th></th>\n",
       "      <th>Fiscal Year Released</th>\n",
       "      <th>Recidivism Reporting Year</th>\n",
       "      <th>Race - Ethnicity</th>\n",
       "      <th>Age At Release</th>\n",
       "      <th>Convicting Offense Classification</th>\n",
       "      <th>Convicting Offense Type</th>\n",
       "      <th>Convicting Offense Subtype</th>\n",
       "      <th>Main Supervising District</th>\n",
       "      <th>Release Type</th>\n",
       "      <th>Release type: Paroled to Detainder united</th>\n",
       "      <th>Part of Target Population</th>\n",
       "      <th>Recidivism - Return to Prison numeric</th>\n",
       "    </tr>\n",
       "  </thead>\n",
       "  <tbody>\n",
       "    <tr>\n",
       "      <th>0</th>\n",
       "      <td>2010</td>\n",
       "      <td>2013</td>\n",
       "      <td>White - Non-Hispanic</td>\n",
       "      <td>Under 25</td>\n",
       "      <td>D Felony</td>\n",
       "      <td>Violent</td>\n",
       "      <td>Assault</td>\n",
       "      <td>4JD</td>\n",
       "      <td>Parole</td>\n",
       "      <td>Parole</td>\n",
       "      <td>Yes</td>\n",
       "      <td>1</td>\n",
       "    </tr>\n",
       "    <tr>\n",
       "      <th>1</th>\n",
       "      <td>2010</td>\n",
       "      <td>2013</td>\n",
       "      <td>White - Non-Hispanic</td>\n",
       "      <td>55 and Older</td>\n",
       "      <td>D Felony</td>\n",
       "      <td>Public Order</td>\n",
       "      <td>OWI</td>\n",
       "      <td>7JD</td>\n",
       "      <td>Parole</td>\n",
       "      <td>Parole</td>\n",
       "      <td>Yes</td>\n",
       "      <td>1</td>\n",
       "    </tr>\n",
       "    <tr>\n",
       "      <th>2</th>\n",
       "      <td>2010</td>\n",
       "      <td>2013</td>\n",
       "      <td>White - Non-Hispanic</td>\n",
       "      <td>25-34</td>\n",
       "      <td>D Felony</td>\n",
       "      <td>Property</td>\n",
       "      <td>Burglary</td>\n",
       "      <td>5JD</td>\n",
       "      <td>Parole</td>\n",
       "      <td>Parole</td>\n",
       "      <td>Yes</td>\n",
       "      <td>1</td>\n",
       "    </tr>\n",
       "    <tr>\n",
       "      <th>3</th>\n",
       "      <td>2010</td>\n",
       "      <td>2013</td>\n",
       "      <td>White - Non-Hispanic</td>\n",
       "      <td>55 and Older</td>\n",
       "      <td>C Felony</td>\n",
       "      <td>Drug</td>\n",
       "      <td>Trafficking</td>\n",
       "      <td>8JD</td>\n",
       "      <td>Parole</td>\n",
       "      <td>Parole</td>\n",
       "      <td>Yes</td>\n",
       "      <td>1</td>\n",
       "    </tr>\n",
       "    <tr>\n",
       "      <th>4</th>\n",
       "      <td>2010</td>\n",
       "      <td>2013</td>\n",
       "      <td>Black - Non-Hispanic</td>\n",
       "      <td>25-34</td>\n",
       "      <td>D Felony</td>\n",
       "      <td>Drug</td>\n",
       "      <td>Trafficking</td>\n",
       "      <td>3JD</td>\n",
       "      <td>Parole</td>\n",
       "      <td>Parole</td>\n",
       "      <td>Yes</td>\n",
       "      <td>1</td>\n",
       "    </tr>\n",
       "  </tbody>\n",
       "</table>\n",
       "</div>"
      ],
      "text/plain": [
       "   Fiscal Year Released  Recidivism Reporting Year      Race - Ethnicity  \\\n",
       "0                  2010                       2013  White - Non-Hispanic   \n",
       "1                  2010                       2013  White - Non-Hispanic   \n",
       "2                  2010                       2013  White - Non-Hispanic   \n",
       "3                  2010                       2013  White - Non-Hispanic   \n",
       "4                  2010                       2013  Black - Non-Hispanic   \n",
       "\n",
       "  Age At Release  Convicting Offense Classification Convicting Offense Type  \\\n",
       "0        Under 25                          D Felony                 Violent   \n",
       "1    55 and Older                          D Felony            Public Order   \n",
       "2           25-34                          D Felony                Property   \n",
       "3    55 and Older                          C Felony                    Drug   \n",
       "4           25-34                          D Felony                    Drug   \n",
       "\n",
       "  Convicting Offense Subtype Main Supervising District Release Type  \\\n",
       "0                    Assault                       4JD       Parole   \n",
       "1                        OWI                       7JD       Parole   \n",
       "2                   Burglary                       5JD       Parole   \n",
       "3                Trafficking                       8JD       Parole   \n",
       "4                Trafficking                       3JD       Parole   \n",
       "\n",
       "  Release type: Paroled to Detainder united Part of Target Population  \\\n",
       "0                                    Parole                       Yes   \n",
       "1                                    Parole                       Yes   \n",
       "2                                    Parole                       Yes   \n",
       "3                                    Parole                       Yes   \n",
       "4                                    Parole                       Yes   \n",
       "\n",
       "   Recidivism - Return to Prison numeric  \n",
       "0                                      1  \n",
       "1                                      1  \n",
       "2                                      1  \n",
       "3                                      1  \n",
       "4                                      1  "
      ]
     },
     "execution_count": 7,
     "metadata": {},
     "output_type": "execute_result"
    }
   ],
   "source": [
    "#zero = pd.crosstab(db[db[\"Recidivism - Return to Prison numeric\"]==0])\n",
    "db.head()"
   ]
  },
  {
   "cell_type": "code",
   "execution_count": 8,
   "metadata": {},
   "outputs": [
    {
     "data": {
      "text/plain": [
       "<matplotlib.axes._subplots.AxesSubplot at 0x107b50a90>"
      ]
     },
     "execution_count": 8,
     "metadata": {},
     "output_type": "execute_result"
    },
    {
     "data": {
      "image/png": "[encoded data removed]",
      "text/plain": [
       "<Figure size 432x288 with 1 Axes>"
      ]
     },
     "metadata": {
      "needs_background": "light"
     },
     "output_type": "display_data"
    }
   ],
   "source": [
    "k.plot(kind='bar', legend=False)"
   ]
  },
  {
   "cell_type": "code",
   "execution_count": 9,
   "metadata": {},
   "outputs": [
    {
     "data": {
      "text/plain": [
       "<matplotlib.axes._subplots.AxesSubplot at 0x1a1c313438>"
      ]
     },
     "execution_count": 9,
     "metadata": {},
     "output_type": "execute_result"
    },
    {
     "data": {
      "image/png": "[encoded data removed]",
      "text/plain": [
       "<Figure size 432x288 with 1 Axes>"
      ]
     },
     "metadata": {
      "needs_background": "light"
     },
     "output_type": "display_data"
    }
   ],
   "source": [
    "k.plot(kind='bar', by=\"Recidivism - Return to Prison numeric\")"
   ]
  },
  {
   "cell_type": "code",
   "execution_count": 10,
   "metadata": {},
   "outputs": [],
   "source": [
    "def exploratoria (data,compara, num=[], cat=[]):\n",
    "    d0=data[data[compara]==0]\n",
    "    d1=data[data[compara]==1]\n",
    "    cros={}\n",
    "    cros_norm={}\n",
    "    box={}\n",
    "    for c in cat:\n",
    "        print(pd.crosstab(data[c],data[compara],normalize='index'))\n",
    "        \n",
    "        print(pd.crosstab(data[c],data[compara]))\n",
    "        cros[c] = pd.crosstab(data[c],data[compara])\n",
    "        cros_norm[c] = pd.crosstab(data[c],data[compara],normalize='index')\n",
    "        cros_norm[c].plot(kind='bar', color=('black', 'b'))\n",
    "        plt.ylabel('Frequência Absoluta')\n",
    "        print ('Não Reincide')\n",
    "        d0[c].hist(density=True,xrot=45)\n",
    "        plt.show()\n",
    "        print ('Reincide')\n",
    "        d1[c].hist(density=True,xrot=45)\n",
    "        plt.show()\n",
    "    for n in num:\n",
    "        plt.figure()\n",
    "        data.boxplot(column = [n], by = compara)\n",
    "        box[c]=data.boxplot(column = [n], by = compara)\n",
    "    return{'crosstab':cros,'boxplot':box,'normed': cros_norm}\n",
    "        \n",
    "    "
   ]
  },
  {
   "cell_type": "code",
   "execution_count": null,
   "metadata": {
    "scrolled": false
   },
   "outputs": [
    {
     "name": "stdout",
     "output_type": "stream",
     "text": [
      "Recidivism - Return to Prison numeric         0         1\n",
      "Fiscal Year Released                                     \n",
      "2010                                   0.696717  0.303283\n",
      "2011                                   0.703344  0.296656\n",
      "2012                                   0.681435  0.318565\n",
      "2013                                   0.657563  0.342437\n",
      "2014                                   0.646097  0.353903\n",
      "2015                                   0.621856  0.378144\n",
      "Recidivism - Return to Prison numeric     0     1\n",
      "Fiscal Year Released                             \n",
      "2010                                   2589  1127\n",
      "2011                                   2755  1162\n",
      "2012                                   3230  1510\n",
      "2013                                   3082  1605\n",
      "2014                                   2963  1623\n",
      "2015                                   2720  1654\n",
      "Não Reincide\n"
     ]
    },
    {
     "data": {
      "image/png": "[encoded data removed]",
      "text/plain": [
       "<Figure size 432x288 with 1 Axes>"
      ]
     },
     "metadata": {
      "needs_background": "light"
     },
     "output_type": "display_data"
    },
    {
     "name": "stdout",
     "output_type": "stream",
     "text": [
      "Reincide\n"
     ]
    },
    {
     "data": {
      "image/png": "[encoded data removed]",
      "text/plain": [
       "<Figure size 432x288 with 1 Axes>"
      ]
     },
     "metadata": {
      "needs_background": "light"
     },
     "output_type": "display_data"
    },
    {
     "name": "stdout",
     "output_type": "stream",
     "text": [
      "Recidivism - Return to Prison numeric         0         1\n",
      "Recidivism Reporting Year                                \n",
      "2013                                   0.696717  0.303283\n",
      "2014                                   0.703344  0.296656\n",
      "2015                                   0.681435  0.318565\n",
      "2016                                   0.657563  0.342437\n",
      "2017                                   0.646097  0.353903\n",
      "2018                                   0.621856  0.378144\n",
      "Recidivism - Return to Prison numeric     0     1\n",
      "Recidivism Reporting Year                        \n",
      "2013                                   2589  1127\n",
      "2014                                   2755  1162\n",
      "2015                                   3230  1510\n",
      "2016                                   3082  1605\n",
      "2017                                   2963  1623\n",
      "2018                                   2720  1654\n",
      "Não Reincide\n"
     ]
    },
    {
     "data": {
      "image/png": "[encoded data removed]",
      "text/plain": [
       "<Figure size 432x288 with 1 Axes>"
      ]
     },
     "metadata": {
      "needs_background": "light"
     },
     "output_type": "display_data"
    },
    {
     "name": "stdout",
     "output_type": "stream",
     "text": [
      "Reincide\n"
     ]
    },
    {
     "data": {
      "image/png": "[encoded data removed]",
      "text/plain": [
       "<Figure size 432x288 with 1 Axes>"
      ]
     },
     "metadata": {
      "needs_background": "light"
     },
     "output_type": "display_data"
    },
    {
     "name": "stdout",
     "output_type": "stream",
     "text": [
      "Recidivism - Return to Prison numeric                   0         1\n",
      "Race - Ethnicity                                                   \n",
      "American Indian or Alaska Native - Hispanic      0.700000  0.300000\n",
      "American Indian or Alaska Native - Non-Hispanic  0.603586  0.396414\n",
      "Asian or Pacific Islander - Hispanic             0.600000  0.400000\n",
      "Asian or Pacific Islander - Non-Hispanic         0.770833  0.229167\n",
      "Black -                                          1.000000  0.000000\n",
      "Black - Hispanic                                 0.702703  0.297297\n",
      "Black - Non-Hispanic                             0.665739  0.334261\n",
      "N/A -                                            1.000000  0.000000\n",
      "White -                                          0.916667  0.083333\n",
      "White - Hispanic                                 0.785151  0.214849\n",
      "White - Non-Hispanic                             0.655994  0.344006\n",
      "Recidivism - Return to Prison numeric                0     1\n",
      "Race - Ethnicity                                            \n",
      "American Indian or Alaska Native - Hispanic         14     6\n",
      "American Indian or Alaska Native - Non-Hispanic    303   199\n",
      "Asian or Pacific Islander - Hispanic                 3     2\n",
      "Asian or Pacific Islander - Non-Hispanic           148    44\n",
      "Black -                                              2     0\n",
      "Black - Hispanic                                    26    11\n",
      "Black - Non-Hispanic                              4067  2042\n",
      "N/A -                                                5     0\n",
      "White -                                             11     1\n",
      "White - Hispanic                                  1195   327\n",
      "White - Non-Hispanic                             11535  6049\n",
      "Não Reincide\n"
     ]
    }
   ],
   "source": [
    "explora=exploratoria(db,'Recidivism - Return to Prison numeric',num=['Fiscal Year Released','Recidivism Reporting Year'],cat=['Fiscal Year Released','Recidivism Reporting Year','Race - Ethnicity','Convicting Offense Classification','Convicting Offense Type','Convicting Offense Subtype','Main Supervising District','Release Type','Release type: Paroled to Detainder united','Part of Target Population'])\n",
    "\n",
    "#'''\"Age At Release\" não está funcionando'''"
   ]
  },
  {
   "cell_type": "code",
   "execution_count": null,
   "metadata": {},
   "outputs": [],
   "source": [
    "plt.figure()\n",
    "explora['hist_0']['Fiscal Year Released']\n"
   ]
  },
  {
   "cell_type": "code",
   "execution_count": null,
   "metadata": {},
   "outputs": [],
   "source": [
    "encoder = OneHotEncoder()\n",
    "def one_hot_enc(data,num=[],cat=[]):\n",
    "    d=data[cat]\n",
    "    #d.replace(np.nan,'not')\n",
    "    \"\"\"\n",
    "    for c in cat:\n",
    "        n=0\n",
    "        while n < len(d[c]):\n",
    "            if d[c][n]==np.nan:\n",
    "                d[c][n]='not'\n",
    "                print (d[c][n])\n",
    "            n+=1\n",
    "    \"\"\"\n",
    "    dnum=data[num]\n",
    "    encoded=encoder.fit_transform(d)\n",
    "    array=encoded.toarray()[0]\n",
    "    numarray=dnum.toarray\n",
    "    return np.concatenate((numarray, array), axis=1)"
   ]
  },
  {
   "cell_type": "code",
   "execution_count": null,
   "metadata": {},
   "outputs": [],
   "source": [
    "var_enc = one_hot_enc(db,cat=['Main Supervising District','Fiscal Year Released','Recidivism Reporting Year','Race - Ethnicity','Convicting Offense Classification','Convicting Offense Type','Convicting Offense Subtype','Release Type','Release type: Paroled to Detainder united','Part of Target Population'])\n",
    "\n",
    "\n"
   ]
  },
  {
   "cell_type": "code",
   "execution_count": null,
   "metadata": {},
   "outputs": [],
   "source": []
  },
  {
   "cell_type": "code",
   "execution_count": null,
   "metadata": {},
   "outputs": [],
   "source": []
  },
  {
   "cell_type": "code",
   "execution_count": null,
   "metadata": {},
   "outputs": [],
   "source": []
  },
  {
   "cell_type": "code",
   "execution_count": null,
   "metadata": {},
   "outputs": [],
   "source": []
  },
  {
   "cell_type": "code",
   "execution_count": null,
   "metadata": {},
   "outputs": [],
   "source": []
  },
  {
   "cell_type": "code",
   "execution_count": null,
   "metadata": {},
   "outputs": [],
   "source": []
  },
  {
   "cell_type": "code",
   "execution_count": null,
   "metadata": {},
   "outputs": [],
   "source": []
  },
  {
   "cell_type": "markdown",
   "metadata": {},
   "source": [
    "# CONCLUSÃO"
   ]
  },
  {
   "cell_type": "code",
   "execution_count": null,
   "metadata": {},
   "outputs": [],
   "source": []
  },
  {
   "cell_type": "code",
   "execution_count": null,
   "metadata": {},
   "outputs": [],
   "source": []
  },
  {
   "cell_type": "markdown",
   "metadata": {},
   "source": [
    "# REFERÊNCIAS"
   ]
  },
  {
   "cell_type": "markdown",
   "metadata": {},
   "source": [
    "**[1]** IPEA. Reincidência criminal no Brasil. Disponível em: https://www.cnj.jus.br/wp-content/uploads/2011/02/716becd8421643340f61dfa8677e1538.pdf. Acesso em 15 nov. 2019.\n",
    "\n",
    "**[1]** BLABLBALBALBABA\n",
    "\n",
    "**[1]** BLABLBALBALBABA\n",
    "\n",
    "**[1]** BLABLBALBALBABA"
   ]
  },
  {
   "cell_type": "code",
   "execution_count": null,
   "metadata": {},
   "outputs": [],
   "source": []
  }
 ],
 "metadata": {
  "kernelspec": {
   "display_name": "Python 3",
   "language": "python",
   "name": "python3"
  },
  "language_info": {
   "codemirror_mode": {
    "name": "ipython",
    "version": 3
   },
   "file_extension": ".py",
   "mimetype": "text/x-python",
   "name": "python",
   "nbconvert_exporter": "python",
   "pygments_lexer": "ipython3",
   "version": "3.7.1"
  }
 },
 "nbformat": 4,
 "nbformat_minor": 2
}
